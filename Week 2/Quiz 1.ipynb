{
 "cells": [
  {
   "cell_type": "markdown",
   "id": "5608f287",
   "metadata": {},
   "source": [
    "# Question 1"
   ]
  },
  {
   "cell_type": "raw",
   "id": "7ad310dd",
   "metadata": {},
   "source": [
    "What is the output of the individual cells. (1 point each)\n",
    "\n",
    "If there is an error on any of the cells, report the error. (1 point each)\n",
    "\n",
    "Propose a fix for the error. (1 point each)"
   ]
  },
  {
   "cell_type": "markdown",
   "id": "617ecafc",
   "metadata": {},
   "source": [
    "# CELL 1"
   ]
  },
  {
   "cell_type": "code",
   "execution_count": 25,
   "id": "d013b08a",
   "metadata": {},
   "outputs": [
    {
     "ename": "SyntaxError",
     "evalue": "unterminated string literal (detected at line 1) (3584330437.py, line 1)",
     "output_type": "error",
     "traceback": [
      "\u001b[0;36m  File \u001b[0;32m\"/tmp/ipykernel_2688/3584330437.py\"\u001b[0;36m, line \u001b[0;32m1\u001b[0m\n\u001b[0;31m    print(Hallo Class\")\u001b[0m\n\u001b[0m                     ^\u001b[0m\n\u001b[0;31mSyntaxError\u001b[0m\u001b[0;31m:\u001b[0m unterminated string literal (detected at line 1)\n"
     ]
    }
   ],
   "source": [
    "print(Hallo Class\")"
   ]
  },
  {
   "cell_type": "code",
   "execution_count": 26,
   "id": "e0b5853d",
   "metadata": {},
   "outputs": [
    {
     "name": "stdout",
     "output_type": "stream",
     "text": [
      "Hallo Class\n"
     ]
    }
   ],
   "source": [
    "print(\"Hallo Class\")"
   ]
  },
  {
   "cell_type": "markdown",
   "id": "7f08f982",
   "metadata": {},
   "source": [
    "# CELL 2"
   ]
  },
  {
   "cell_type": "code",
   "execution_count": 27,
   "id": "d64caca6",
   "metadata": {},
   "outputs": [
    {
     "ename": "SyntaxError",
     "evalue": "unterminated string literal (detected at line 1) (566545882.py, line 1)",
     "output_type": "error",
     "traceback": [
      "\u001b[0;36m  File \u001b[0;32m\"/tmp/ipykernel_2688/566545882.py\"\u001b[0;36m, line \u001b[0;32m1\u001b[0m\n\u001b[0;31m    Print(\"Hallo Class)\u001b[0m\n\u001b[0m          ^\u001b[0m\n\u001b[0;31mSyntaxError\u001b[0m\u001b[0;31m:\u001b[0m unterminated string literal (detected at line 1)\n"
     ]
    }
   ],
   "source": [
    "Print(\"Hallo Class)"
   ]
  },
  {
   "cell_type": "code",
   "execution_count": 28,
   "id": "a9d9b7c3",
   "metadata": {},
   "outputs": [
    {
     "name": "stdout",
     "output_type": "stream",
     "text": [
      "Hallo Class\n"
     ]
    }
   ],
   "source": [
    "print(\"Hallo Class\")"
   ]
  },
  {
   "cell_type": "markdown",
   "id": "0668a63e",
   "metadata": {},
   "source": [
    "# CELL 3"
   ]
  },
  {
   "cell_type": "code",
   "execution_count": 29,
   "id": "56534c2e",
   "metadata": {},
   "outputs": [
    {
     "name": "stdout",
     "output_type": "stream",
     "text": [
      "Helo Class\n"
     ]
    }
   ],
   "source": [
    "print(\"Helo Class\")"
   ]
  },
  {
   "cell_type": "markdown",
   "id": "1eb99a86",
   "metadata": {},
   "source": [
    "# CELL 4"
   ]
  },
  {
   "cell_type": "code",
   "execution_count": 30,
   "id": "7f2e75ea",
   "metadata": {},
   "outputs": [
    {
     "ename": "SyntaxError",
     "evalue": "unterminated string literal (detected at line 1) (1449310505.py, line 1)",
     "output_type": "error",
     "traceback": [
      "\u001b[0;36m  File \u001b[0;32m\"/tmp/ipykernel_2688/1449310505.py\"\u001b[0;36m, line \u001b[0;32m1\u001b[0m\n\u001b[0;31m    print(Hallo Class')\u001b[0m\n\u001b[0m                     ^\u001b[0m\n\u001b[0;31mSyntaxError\u001b[0m\u001b[0;31m:\u001b[0m unterminated string literal (detected at line 1)\n"
     ]
    }
   ],
   "source": [
    "print(Hallo Class')"
   ]
  },
  {
   "cell_type": "code",
   "execution_count": 31,
   "id": "f5935e76",
   "metadata": {},
   "outputs": [
    {
     "name": "stdout",
     "output_type": "stream",
     "text": [
      "Hallo Class\n"
     ]
    }
   ],
   "source": [
    "print('Hallo Class')"
   ]
  },
  {
   "cell_type": "markdown",
   "id": "b8f618ba",
   "metadata": {},
   "source": [
    "# Cell 5"
   ]
  },
  {
   "cell_type": "code",
   "execution_count": 32,
   "id": "5e8f878c",
   "metadata": {},
   "outputs": [
    {
     "ename": "SyntaxError",
     "evalue": "unterminated string literal (detected at line 1) (1535394561.py, line 1)",
     "output_type": "error",
     "traceback": [
      "\u001b[0;36m  File \u001b[0;32m\"/tmp/ipykernel_2688/1535394561.py\"\u001b[0;36m, line \u001b[0;32m1\u001b[0m\n\u001b[0;31m    print('Hallo Class)\u001b[0m\n\u001b[0m          ^\u001b[0m\n\u001b[0;31mSyntaxError\u001b[0m\u001b[0;31m:\u001b[0m unterminated string literal (detected at line 1)\n"
     ]
    }
   ],
   "source": [
    "print('Hallo Class)"
   ]
  },
  {
   "cell_type": "code",
   "execution_count": 33,
   "id": "6a281278",
   "metadata": {},
   "outputs": [
    {
     "name": "stdout",
     "output_type": "stream",
     "text": [
      "Hallo Class\n"
     ]
    }
   ],
   "source": [
    "print('Hallo Class')"
   ]
  },
  {
   "cell_type": "markdown",
   "id": "49ef08bd",
   "metadata": {},
   "source": [
    "# CELL 6"
   ]
  },
  {
   "cell_type": "code",
   "execution_count": 34,
   "id": "3475d270",
   "metadata": {},
   "outputs": [
    {
     "name": "stdout",
     "output_type": "stream",
     "text": [
      "Hello Clas\n"
     ]
    }
   ],
   "source": [
    "print('Hello Clas')"
   ]
  },
  {
   "cell_type": "markdown",
   "id": "9d5a3768",
   "metadata": {},
   "source": [
    "# CELL 7"
   ]
  },
  {
   "cell_type": "code",
   "execution_count": 35,
   "id": "1ced3c88",
   "metadata": {},
   "outputs": [
    {
     "ename": "SyntaxError",
     "evalue": "unterminated string literal (detected at line 1) (337988708.py, line 1)",
     "output_type": "error",
     "traceback": [
      "\u001b[0;36m  File \u001b[0;32m\"/tmp/ipykernel_2688/337988708.py\"\u001b[0;36m, line \u001b[0;32m1\u001b[0m\n\u001b[0;31m    print(\"Hello Class')\u001b[0m\n\u001b[0m          ^\u001b[0m\n\u001b[0;31mSyntaxError\u001b[0m\u001b[0;31m:\u001b[0m unterminated string literal (detected at line 1)\n"
     ]
    }
   ],
   "source": [
    "print(\"Hello Class')"
   ]
  },
  {
   "cell_type": "code",
   "execution_count": 36,
   "id": "2f35eb11",
   "metadata": {},
   "outputs": [
    {
     "name": "stdout",
     "output_type": "stream",
     "text": [
      "Hello CLass\n"
     ]
    }
   ],
   "source": [
    "print(\"Hello CLass\")"
   ]
  },
  {
   "cell_type": "markdown",
   "id": "45066cd8",
   "metadata": {},
   "source": [
    "# CELL 8"
   ]
  },
  {
   "cell_type": "code",
   "execution_count": 37,
   "id": "46a12f83",
   "metadata": {},
   "outputs": [
    {
     "ename": "SyntaxError",
     "evalue": "unterminated string literal (detected at line 1) (3691414317.py, line 1)",
     "output_type": "error",
     "traceback": [
      "\u001b[0;36m  File \u001b[0;32m\"/tmp/ipykernel_2688/3691414317.py\"\u001b[0;36m, line \u001b[0;32m1\u001b[0m\n\u001b[0;31m    print('Hello Class\")\u001b[0m\n\u001b[0m          ^\u001b[0m\n\u001b[0;31mSyntaxError\u001b[0m\u001b[0;31m:\u001b[0m unterminated string literal (detected at line 1)\n"
     ]
    }
   ],
   "source": [
    "print('Hello Class\")"
   ]
  },
  {
   "cell_type": "code",
   "execution_count": 38,
   "id": "fbaaeedf",
   "metadata": {},
   "outputs": [
    {
     "name": "stdout",
     "output_type": "stream",
     "text": [
      "Hello Class\n"
     ]
    }
   ],
   "source": [
    "print(\"Hello Class\")"
   ]
  },
  {
   "cell_type": "markdown",
   "id": "f8c1e60a",
   "metadata": {},
   "source": [
    "# CELL 9"
   ]
  },
  {
   "cell_type": "code",
   "execution_count": 39,
   "id": "bb5bb71a",
   "metadata": {},
   "outputs": [
    {
     "name": "stdout",
     "output_type": "stream",
     "text": [
      "Hello' Class\n"
     ]
    }
   ],
   "source": [
    "print(\"Hello' Class\")"
   ]
  },
  {
   "cell_type": "markdown",
   "id": "64c336e9",
   "metadata": {},
   "source": [
    "# CELL 10"
   ]
  },
  {
   "cell_type": "code",
   "execution_count": 40,
   "id": "61f61960",
   "metadata": {},
   "outputs": [
    {
     "ename": "SyntaxError",
     "evalue": "unterminated string literal (detected at line 1) (3210738619.py, line 1)",
     "output_type": "error",
     "traceback": [
      "\u001b[0;36m  File \u001b[0;32m\"/tmp/ipykernel_2688/3210738619.py\"\u001b[0;36m, line \u001b[0;32m1\u001b[0m\n\u001b[0;31m    print('Hello Class'\")\u001b[0m\n\u001b[0m                       ^\u001b[0m\n\u001b[0;31mSyntaxError\u001b[0m\u001b[0;31m:\u001b[0m unterminated string literal (detected at line 1)\n"
     ]
    }
   ],
   "source": [
    "print('Hello Class'\")"
   ]
  },
  {
   "cell_type": "code",
   "execution_count": 41,
   "id": "a04ef6ee",
   "metadata": {},
   "outputs": [
    {
     "name": "stdout",
     "output_type": "stream",
     "text": [
      "Hello Class\n"
     ]
    }
   ],
   "source": [
    "print('Hello Class')"
   ]
  },
  {
   "cell_type": "code",
   "execution_count": null,
   "id": "caaddede",
   "metadata": {},
   "outputs": [],
   "source": []
  }
 ],
 "metadata": {
  "kernelspec": {
   "display_name": "Python 3 (ipykernel)",
   "language": "python",
   "name": "python3"
  },
  "language_info": {
   "codemirror_mode": {
    "name": "ipython",
    "version": 3
   },
   "file_extension": ".py",
   "mimetype": "text/x-python",
   "name": "python",
   "nbconvert_exporter": "python",
   "pygments_lexer": "ipython3",
   "version": "3.10.12"
  }
 },
 "nbformat": 4,
 "nbformat_minor": 5
}
