{
 "cells": [
  {
   "cell_type": "code",
   "execution_count": 1,
   "id": "3f4c5afc",
   "metadata": {},
   "outputs": [],
   "source": [
    "import os\n",
    "\n",
    "for weeknum in range(1,17):\n",
    "    weekfolder = os.path.join(os.curdir, f\"Week {str(weeknum).zfill(2)}\")\n",
    "    \n",
    "    os.mkdir(weekfolder)\n",
    "    for day in [\"Monday\", \"Wednesday\", \"Friday\"]:\n",
    "        os.mkdir(os.path.join(weekfolder, day))"
   ]
  },
  {
   "cell_type": "code",
   "execution_count": null,
   "id": "2d9f96eb",
   "metadata": {},
   "outputs": [],
   "source": []
  }
 ],
 "metadata": {
  "kernelspec": {
   "display_name": "Python 3 (ipykernel)",
   "language": "python",
   "name": "python3"
  },
  "language_info": {
   "codemirror_mode": {
    "name": "ipython",
    "version": 3
   },
   "file_extension": ".py",
   "mimetype": "text/x-python",
   "name": "python",
   "nbconvert_exporter": "python",
   "pygments_lexer": "ipython3",
   "version": "3.10.12"
  }
 },
 "nbformat": 4,
 "nbformat_minor": 5
}
